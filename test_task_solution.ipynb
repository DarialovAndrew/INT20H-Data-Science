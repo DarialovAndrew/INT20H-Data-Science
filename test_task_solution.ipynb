{
 "cells": [
  {
   "cell_type": "code",
   "execution_count": null,
   "id": "6127133f",
   "metadata": {},
   "outputs": [],
   "source": [
    "from lightgbm.sklearn import LGBMClassifier\n",
    "import numpy as np\n",
    "import optuna.integration.lightgbm as lgb\n",
    "import pandas as pd\n",
    "from sklearn.model_selection import StratifiedKFold\n",
    "from sklearn.metrics import roc_auc_score\n",
    "\n",
    "import warnings\n",
    "warnings.filterwarnings(\"ignore\")"
   ]
  },
  {
   "cell_type": "markdown",
   "id": "93554c14",
   "metadata": {},
   "source": [
    "Load dataset"
   ]
  },
  {
   "cell_type": "code",
   "execution_count": null,
   "id": "eda46b4a",
   "metadata": {},
   "outputs": [],
   "source": [
    "data = pd.read_csv(\"./train.csv\")\n",
    "test_data = pd.read_csv(\"./test.csv\")"
   ]
  },
  {
   "cell_type": "markdown",
   "id": "034aac1b",
   "metadata": {},
   "source": [
    "Group data by Id. Compute mean features of groups"
   ]
  },
  {
   "cell_type": "code",
   "execution_count": null,
   "id": "33d4e7f5",
   "metadata": {},
   "outputs": [],
   "source": [
    "data = data.sort_values(['Id', 'Week'])\n",
    "data = data.groupby(['Id']).agg(np.nanmean).reset_index()\n",
    "\n",
    "test_data = test_data.sort_values(['Id', 'Week'])\n",
    "test_data = test_data.groupby(['Id']).agg(np.nanmean).reset_index()"
   ]
  },
  {
   "cell_type": "markdown",
   "id": "834b102b",
   "metadata": {},
   "source": [
    "Split into features and target"
   ]
  },
  {
   "cell_type": "code",
   "execution_count": null,
   "id": "c99ceb5d",
   "metadata": {},
   "outputs": [],
   "source": [
    "X = data.drop(['Id', 'Week', 'target'], axis=1)\n",
    "y = data['target']"
   ]
  },
  {
   "cell_type": "markdown",
   "id": "0ba10b43",
   "metadata": {},
   "source": [
    "Perform hyperparameter tuning with cross-validation for LightGBMClassifier using optuna (5 folds)"
   ]
  },
  {
   "cell_type": "code",
   "execution_count": null,
   "id": "756beb2d",
   "metadata": {},
   "outputs": [],
   "source": [
    "params = {\n",
    "    'objective': 'binary',\n",
    "    'metric': 'auc',\n",
    "    'boosting_type': 'gbdt',\n",
    "    'learning_rate': 0.005,\n",
    "    'random_state': 42,\n",
    "    'n_jobs': 16,\n",
    "    'verbosity': -1\n",
    "}\n",
    "\n",
    "tuner = lgb.LightGBMTunerCV(params, lgb.Dataset(X, y), verbose_eval=500, num_boost_round=1000, \n",
    "                            optuna_seed=42)\n",
    "tuner.run()"
   ]
  },
  {
   "cell_type": "markdown",
   "id": "96bcde6e",
   "metadata": {},
   "source": [
    "Get Out-of-Fold predictions using tuned hyperparameters (10 folds)"
   ]
  },
  {
   "cell_type": "code",
   "execution_count": null,
   "id": "7579635d",
   "metadata": {},
   "outputs": [],
   "source": [
    "X = data.drop(['Id', 'Week', 'target'], axis=1)\n",
    "y = data['target']\n",
    "\n",
    "folds = StratifiedKFold(n_splits=10, random_state=42, shuffle=True)\n",
    "predictions = np.zeros(len(test_data))\n",
    "for fold, (train_index, test_index) in enumerate(folds.split(X, y)):\n",
    "    \n",
    "    X_train, X_valid = X.iloc[train_index], X.iloc[test_index]\n",
    "    y_train, y_valid = y.iloc[train_index], y.iloc[test_index]\n",
    "    \n",
    "    clf = LGBMClassifier(n_estimators=5000, **params, **tuner.study.best_trial.params)\n",
    "    clf.fit(X_train, y_train, eval_set=[(X_valid, y_valid)], eval_metric='auc', early_stopping_rounds=250, verbose=0)\n",
    "    \n",
    "    y_preds = clf.predict_proba(X_valid)[:,1]\n",
    "    predictions += clf.predict_proba(test_data.drop(['Id', 'Week'], axis=1))[:,1] / folds.n_splits \n",
    "    \n",
    "    print(f'Fold {fold + 1}, Validation AUC = {roc_auc_score(y_valid, y_preds)}')"
   ]
  },
  {
   "cell_type": "code",
   "execution_count": null,
   "id": "b62d909c",
   "metadata": {},
   "outputs": [],
   "source": [
    "submission = pd.DataFrame(test_data['Id'])\n",
    "submission['Predicted'] = predictions\n",
    "submission = submission.set_index('Id')\n",
    "submission.to_csv('submission.csv')"
   ]
  }
 ],
 "metadata": {
  "kernelspec": {
   "display_name": "Python 3 (ipykernel)",
   "language": "python",
   "name": "python3"
  },
  "language_info": {
   "codemirror_mode": {
    "name": "ipython",
    "version": 3
   },
   "file_extension": ".py",
   "mimetype": "text/x-python",
   "name": "python",
   "nbconvert_exporter": "python",
   "pygments_lexer": "ipython3",
   "version": "3.8.12"
  }
 },
 "nbformat": 4,
 "nbformat_minor": 5
}
